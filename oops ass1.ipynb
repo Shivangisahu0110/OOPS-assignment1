{
 "cells": [
  {
   "cell_type": "markdown",
   "id": "95c1fd4d-16ea-4c18-819b-bde5aacb4263",
   "metadata": {},
   "source": [
    "Q1. Explain Class and Object with respect to Object-Oriented Programming. Give a suitable example."
   ]
  },
  {
   "cell_type": "markdown",
   "id": "f58ab890-42d4-4362-9c4e-c73833ef9580",
   "metadata": {},
   "source": [
    "A Class is like an object constructor, or a \"blueprint\" for creating objects.\n",
    "To create a class, use the keyword class. Classes provide a means of bundling data and functionality together. \n",
    "\n",
    "An Object is an instance of a Class,Almost everything in Python is an object, with its properties and methods.Objects can also contain methods. Methods in objects are functions that belong to the object."
   ]
  },
  {
   "cell_type": "code",
   "execution_count": 3,
   "id": "ed87d3fb-09a4-4936-8637-96bc27f65b1c",
   "metadata": {},
   "outputs": [
    {
     "data": {
      "text/plain": [
       "('shivangi', 10, 9876543210)"
      ]
     },
     "execution_count": 3,
     "metadata": {},
     "output_type": "execute_result"
    }
   ],
   "source": [
    "#defining class student_detail\n",
    "class student_detail:\n",
    "    def __init__(self,student_name,student_class,student_mob_num):\n",
    "        self.student_name1 =student_name\n",
    "        self.student_class = student_class\n",
    "        self.student_mob_num2 = student_mob_num\n",
    "        \n",
    "    def return_student_detail (self):\n",
    "        return self.student_name1,self.student_class,self.student_mob_num2\n",
    "    \n",
    "    \n",
    "#object of class student_detail \n",
    "student1 =student_detail(\"shivangi\",10,9876543210)  \n",
    "student1.return_student_detail()"
   ]
  },
  {
   "cell_type": "markdown",
   "id": "35b4331e-97d0-4a2a-bca9-2ffe304f3cc7",
   "metadata": {},
   "source": [
    "Q2. Name the four pillars of OOPs."
   ]
  },
  {
   "cell_type": "markdown",
   "id": "730b7222-6431-414d-9816-915c4c2ac6d2",
   "metadata": {},
   "source": [
    "The four pillars of OOPs (object-oriented programming) are abstraction, encapsulation, inheritance, and polymorphism.These are defined as follows:\n",
    "\n",
    "Abstraction:It is defined as a process of handling complexity by hiding unnecessary information from the user.\n",
    "\n",
    "Encapsulation: Encapsulation is a mechanism of wrapping the data (variables) and code acting on the data (methods) together as a single unit.\n",
    "\n",
    "Inheritance: Inheritance is the ability of one class to inherit another class. Inheritance provides reusability of code and allows us to create complex and real-world-like relationships among objects.\n",
    "\n",
    "Polymorphism: The word \"polymorphism\" means \"many forms\", and in programming it refers to methods/functions/operators with the same name that can be executed on many objects or classes."
   ]
  },
  {
   "cell_type": "markdown",
   "id": "1b7f275f-8459-49f7-b020-948b4d52814b",
   "metadata": {},
   "source": [
    "Q3. Explain why the __init__() function is used. Give a suitable example."
   ]
  },
  {
   "cell_type": "markdown",
   "id": "9204d122-58f4-4f19-8719-6106ce591d9b",
   "metadata": {},
   "source": [
    "All classes have a function called __init__(), which is always executed when the class is being initiated.\n",
    "\n",
    "Use the __init__() function to assign values to object properties, or other operations that are necessary to do when the object is being created\n",
    "\n",
    " The __init__() function is called automatically every time the class is being used to create a new object."
   ]
  },
  {
   "cell_type": "code",
   "execution_count": 11,
   "id": "5896b1b9-503c-4ef8-9383-2ce18f57534c",
   "metadata": {},
   "outputs": [
    {
     "name": "stdout",
     "output_type": "stream",
     "text": [
      "Shivangi\n",
      "Female\n",
      "01-jan-2000\n"
     ]
    }
   ],
   "source": [
    "#example\n",
    "class bank_account:\n",
    "    def __init__(self,name,gender,date_of_birth):\n",
    "        self.name = name\n",
    "        self.gender = gender\n",
    "        self.date_of_birth = date_of_birth\n",
    "#creating object of bank account\n",
    "Account1 = bank_account(\"Shivangi\",\"Female\",\"01-jan-2000\")\n",
    "print(Account1.name)\n",
    "print(Account1.gender)\n",
    "print(Account1.date_of_birth)"
   ]
  },
  {
   "cell_type": "markdown",
   "id": "d69944f8-2906-42f3-ad9f-56e60e629265",
   "metadata": {},
   "source": [
    "Q4. Why self is used in OOPs"
   ]
  },
  {
   "cell_type": "markdown",
   "id": "c7e7c50a-8dd7-4e48-b796-a986f04483aa",
   "metadata": {},
   "source": [
    "self represents the instance of the class. By using the “self”  we can access the attributes and methods of the class in python. It binds the attributes with the given arguments.\n",
    "\n",
    "Self is always pointing to Current Object.\n",
    "\n",
    "The reason you need to use self. is because Python does not use the @ syntax to refer to instance attributes. Python decided to do methods in a way that makes the instance to which the method belongs be passed automatically, but not received automatically: the first parameter of methods is the instance the method is called on.\n",
    "\n",
    "Self is a convention and not a Python keyword .\n",
    "\n",
    "Self is the first argument to be passed in Constructor and Instance Method."
   ]
  },
  {
   "cell_type": "code",
   "execution_count": 12,
   "id": "1833f127-37bc-431d-8673-93eabc90e9b9",
   "metadata": {},
   "outputs": [
    {
     "name": "stdout",
     "output_type": "stream",
     "text": [
      "Address of self =  140624682904128\n",
      "Address of class object =  140624682904128\n"
     ]
    }
   ],
   "source": [
    "#example\n",
    "#it is clearly seen that self and obj is referring to the same object\n",
    "  \n",
    "class check:\n",
    "    def __init__(self):\n",
    "        print(\"Address of self = \",id(self))\n",
    "  \n",
    "obj = check()\n",
    "print(\"Address of class object = \",id(obj))\n",
    "  "
   ]
  },
  {
   "cell_type": "markdown",
   "id": "28e0838d-6200-41ff-bc5f-d156dcb32c6f",
   "metadata": {},
   "source": [
    "Q5. What is inheritance? Give an example for each type of inheritance."
   ]
  },
  {
   "cell_type": "markdown",
   "id": "3e65b3cc-feee-421d-b9e7-b73c5cd7d5d6",
   "metadata": {},
   "source": [
    "Inheritance is a concept that consists of the word “Inherit”, which means “To Derive”. So, Inheritance is defined as one class’s tendency to derive properties and characteristics from other classes. It provides additional functionalities to extract features from the base class and imply it into other derived classes significantly."
   ]
  },
  {
   "cell_type": "markdown",
   "id": "78914a4e-cb0a-4185-97ae-52b15f8b2070",
   "metadata": {},
   "source": [
    "Types of Inheritance in Python,there are 5 types of inheritance\n",
    "\n",
    "1.Single Inheritance\n",
    "\n",
    "2.Multiple Inheritance\n",
    "\n",
    "3.Multilevel Inheritance\n",
    "\n",
    "4.Hierarchical Inheritance\n",
    "\n",
    "5.Hybrid Inheritance"
   ]
  },
  {
   "cell_type": "markdown",
   "id": "cf209721-8e2b-4bbb-9bea-ebb7bfbe4e79",
   "metadata": {},
   "source": [
    "Single Inheritance - Single inheritance enables a derived class to inherit properties from a single parent class, thus enabling code reusability and the addition of new features to existing code."
   ]
  },
  {
   "cell_type": "code",
   "execution_count": 29,
   "id": "2dc779ab-fb57-4c6c-b1e4-bae65eb379a8",
   "metadata": {},
   "outputs": [],
   "source": [
    "class Parent:\n",
    "    def function1(self):\n",
    "        print (\"This is a parent class\")\n",
    "class child(Parent):\n",
    "    def function2(self):\n",
    "        print (\"This is a child class\")"
   ]
  },
  {
   "cell_type": "code",
   "execution_count": 30,
   "id": "63cbe533-b565-4045-b9a9-f2293ed22723",
   "metadata": {},
   "outputs": [
    {
     "name": "stdout",
     "output_type": "stream",
     "text": [
      "This is a parent class\n",
      "This is a child class\n"
     ]
    }
   ],
   "source": [
    "#calling object\n",
    "obj1 = child()\n",
    "#calling parent class properties function by child class\n",
    "obj1.function1()\n",
    "#calling child class properties function by child class\n",
    "obj1.function2()"
   ]
  },
  {
   "cell_type": "markdown",
   "id": "80b303ff-5b10-4245-a8fe-7a6913dd378e",
   "metadata": {},
   "source": [
    "Multiple Inheritance - When a class can be derived from more than one base class this type of inheritance is called multiple inheritances."
   ]
  },
  {
   "cell_type": "code",
   "execution_count": 69,
   "id": "6de23aae-29f9-4c2f-bb8b-406b18dfc21a",
   "metadata": {},
   "outputs": [],
   "source": [
    "class father:\n",
    "    def parent_one (self):\n",
    "        print (\"this is an Father class\")\n",
    "class Mother:\n",
    "    def parent_two (self):\n",
    "        print (\"this is an Mother class\")\n",
    "class Child(father, Mother ):\n",
    "    def function3(self):\n",
    "        print (\"this is an Child class\")"
   ]
  },
  {
   "cell_type": "code",
   "execution_count": 78,
   "id": "765b4a69-ef5f-4abe-85ff-e4b7e9b47d6a",
   "metadata": {},
   "outputs": [
    {
     "name": "stdout",
     "output_type": "stream",
     "text": [
      "this is an Father class\n",
      "this is an Mother class\n",
      "this is an Child class\n"
     ]
    }
   ],
   "source": [
    "obj2 = Child()\n",
    "obj2.parent_one()\n",
    "obj2.parent_two()\n",
    "obj2.function3()"
   ]
  },
  {
   "cell_type": "markdown",
   "id": "4311feec-dd48-4845-9f37-f1e5fecd4505",
   "metadata": {},
   "source": [
    "Multilevel inheritance - features of the base class and the derived class are further inherited into the new derived class."
   ]
  },
  {
   "cell_type": "code",
   "execution_count": 88,
   "id": "695e41e9-7092-417b-8aea-b1cc34b58281",
   "metadata": {},
   "outputs": [],
   "source": [
    "class Grandfather:\n",
    "    def first_gen (self):\n",
    "        print (\"this is an Grand father class\")\n",
    "class Father(Grandfather):\n",
    "    def second_gen (self):\n",
    "        print (\"this is an Father class\")\n",
    "class son(Father):\n",
    "    def third_gen(self):\n",
    "        print (\"this is an child class\")"
   ]
  },
  {
   "cell_type": "code",
   "execution_count": 91,
   "id": "c7247249-e4d0-4640-a39f-0ea51531f843",
   "metadata": {},
   "outputs": [
    {
     "name": "stdout",
     "output_type": "stream",
     "text": [
      "this is an Grand father class\n",
      "this is an Father class\n",
      "this is an child class\n"
     ]
    }
   ],
   "source": [
    "new_child = son()\n",
    "new_child.first_gen()\n",
    "new_child.second_gen()\n",
    "new_child.third_gen()"
   ]
  },
  {
   "cell_type": "markdown",
   "id": "15280ffc-2128-420b-bd0a-1a3e988f3048",
   "metadata": {},
   "source": [
    "Hierarchical Inheritance-\n",
    "When more than one derived class are created from a single base class this type of inheritance is called hierarchical inheritance."
   ]
  },
  {
   "cell_type": "code",
   "execution_count": 93,
   "id": "ec03340f-aafe-4ada-a50c-7c2563a5ab15",
   "metadata": {},
   "outputs": [],
   "source": [
    "class parents:\n",
    "    def head (self):\n",
    "        print (\"Head of the family\")\n",
    "class Daughters(parents):\n",
    "    def sibling1 (self):\n",
    "        print (\"elder sibling of a family\")\n",
    "class sons(parents):\n",
    "    def sibling2(self):\n",
    "        print (\"Younger sibling of family\")"
   ]
  },
  {
   "cell_type": "code",
   "execution_count": 94,
   "id": "9338b1ed-032f-4190-ac67-f2fa79bb1d25",
   "metadata": {},
   "outputs": [
    {
     "name": "stdout",
     "output_type": "stream",
     "text": [
      "elder sibling of a family\n"
     ]
    }
   ],
   "source": [
    "Girl_sibling = Daughters()\n",
    "Girl_sibling.sibling1()"
   ]
  },
  {
   "cell_type": "code",
   "execution_count": 95,
   "id": "f1272d2a-9c59-4e06-bc6e-0d7ce1b1dad1",
   "metadata": {},
   "outputs": [
    {
     "name": "stdout",
     "output_type": "stream",
     "text": [
      "Younger sibling of family\n"
     ]
    }
   ],
   "source": [
    "Boy_sibling = sons()\n",
    "Boy_sibling.sibling2()"
   ]
  },
  {
   "cell_type": "markdown",
   "id": "59c7119d-5e6d-4bab-9c91-025f70bda005",
   "metadata": {},
   "source": [
    "Hybrid Inheritance: \n",
    "Inheritance consisting of multiple types of inheritance is called hybrid inheritance."
   ]
  },
  {
   "cell_type": "code",
   "execution_count": 119,
   "id": "1d18fcac-ec66-430e-9091-e23414fbe8e4",
   "metadata": {},
   "outputs": [],
   "source": [
    "class school:\n",
    "    def function1(self):\n",
    "        print(\" Kendriya vidhayalaya\")\n",
    "class student1(school):\n",
    "    def function2(self):\n",
    "        print (\"for the junior of KV 1 \")\n",
    "class student2(school):\n",
    "    def function3(self):\n",
    "        print (\"for the senior of KV 1 \")\n",
    "class teacher(student1,student2):\n",
    "    def function4(self):\n",
    "        print (\"for the scho0l and students responsibilities\")"
   ]
  },
  {
   "cell_type": "code",
   "execution_count": 120,
   "id": "669c5d3a-d0a3-4525-8eb0-4106cff3c931",
   "metadata": {},
   "outputs": [
    {
     "name": "stdout",
     "output_type": "stream",
     "text": [
      " Kendriya vidhayalaya\n",
      "for the junior of KV 1 \n",
      "for the senior of KV 1 \n",
      "for the scho0l and students responsibilities\n"
     ]
    }
   ],
   "source": [
    "teacher1 = teacher()\n",
    "teacher1.function1()\n",
    "teacher1.function2()\n",
    "teacher1.function3()\n",
    "teacher1.function4()"
   ]
  },
  {
   "cell_type": "code",
   "execution_count": null,
   "id": "e5e40eca-3e68-41e3-aeb3-cf65d98783dd",
   "metadata": {},
   "outputs": [],
   "source": []
  }
 ],
 "metadata": {
  "kernelspec": {
   "display_name": "Python 3 (ipykernel)",
   "language": "python",
   "name": "python3"
  },
  "language_info": {
   "codemirror_mode": {
    "name": "ipython",
    "version": 3
   },
   "file_extension": ".py",
   "mimetype": "text/x-python",
   "name": "python",
   "nbconvert_exporter": "python",
   "pygments_lexer": "ipython3",
   "version": "3.10.8"
  }
 },
 "nbformat": 4,
 "nbformat_minor": 5
}
